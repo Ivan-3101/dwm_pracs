{
 "cells": [
  {
   "cell_type": "code",
   "execution_count": 1,
   "id": "131657c5",
   "metadata": {},
   "outputs": [],
   "source": [
    "from apriori_python import apriori"
   ]
  },
  {
   "cell_type": "code",
   "execution_count": 2,
   "id": "0862402e",
   "metadata": {},
   "outputs": [],
   "source": [
    "itemList=[[\"M\",\"O\",\"N\",\"K\",\"E\",\"Y\"],\n",
    "          [\"D\",\"O\",\"N\",\"K\",\"E\",\"Y\"],\n",
    "          [\"M\",\"A\",\"K\",\"E\"],\n",
    "          [\"M\",\"U\",\"C\",\"K\",\"Y\"],\n",
    "          [\"C\",\"O\",\"O\",\"K\",\"E\"]]"
   ]
  },
  {
   "cell_type": "code",
   "execution_count": 3,
   "id": "1387547e",
   "metadata": {},
   "outputs": [],
   "source": [
    "freqItems, rules = apriori(itemList, minSup=0.6, minConf=0.8)"
   ]
  },
  {
   "cell_type": "code",
   "execution_count": 4,
   "id": "e5b8ee96",
   "metadata": {},
   "outputs": [
    {
     "name": "stdout",
     "output_type": "stream",
     "text": [
      "[{'E'}, {'K'}, 1.0]\n",
      "[{'M'}, {'K'}, 1.0]\n",
      "[{'O'}, {'E'}, 1.0]\n",
      "[{'Y'}, {'K'}, 1.0]\n",
      "[{'O'}, {'K'}, 1.0]\n",
      "[{'O'}, {'K', 'E'}, 1.0]\n",
      "[{'K', 'O'}, {'E'}, 1.0]\n",
      "[{'O', 'E'}, {'K'}, 1.0]\n"
     ]
    }
   ],
   "source": [
    "# print(rules)\n",
    "for rule in rules:\n",
    "    print(rule)"
   ]
  },
  {
   "cell_type": "code",
   "execution_count": null,
   "id": "e2ca6e41",
   "metadata": {},
   "outputs": [],
   "source": []
  },
  {
   "cell_type": "code",
   "execution_count": null,
   "id": "e46eca65",
   "metadata": {},
   "outputs": [],
   "source": []
  },
  {
   "cell_type": "code",
   "execution_count": null,
   "id": "7e742110",
   "metadata": {},
   "outputs": [],
   "source": []
  },
  {
   "cell_type": "code",
   "execution_count": 5,
   "id": "d9bc57c6",
   "metadata": {},
   "outputs": [],
   "source": [
    "import math\n",
    "points = [(2,3),(2,4),(8,9),(7,8),(1,2),(8,8),(9,7),(2,2)]"
   ]
  },
  {
   "cell_type": "code",
   "execution_count": 6,
   "id": "78e0e60a",
   "metadata": {},
   "outputs": [],
   "source": [
    "# random mean\n",
    "m1, m2 = (2,3), (2,4)"
   ]
  },
  {
   "cell_type": "code",
   "execution_count": 7,
   "id": "dd62d5f1",
   "metadata": {},
   "outputs": [
    {
     "name": "stdout",
     "output_type": "stream",
     "text": [
      "\n",
      "Iteration No: 1\n",
      "Cluster 1: [(2, 3), (1, 2), (2, 2)] \n",
      "Cluster 2:[(2, 4), (8, 9), (7, 8), (8, 8), (9, 7)]\n",
      "Means: \n",
      "m1: (1.6666666666666667, 2.3333333333333335) \n",
      "m2:(6.8, 7.2)\n",
      "\n",
      "Iteration No: 2\n",
      "Cluster 1: [(2, 3), (2, 4), (1, 2), (2, 2)] \n",
      "Cluster 2:[(8, 9), (7, 8), (8, 8), (9, 7)]\n",
      "Means: \n",
      "m1: (1.75, 2.75) \n",
      "m2:(8.0, 8.0)\n",
      "\n",
      "Iteration No: 3\n",
      "Cluster 1: [(2, 3), (2, 4), (1, 2), (2, 2)] \n",
      "Cluster 2:[(8, 9), (7, 8), (8, 8), (9, 7)]\n",
      "Means: \n",
      "m1: (1.75, 2.75) \n",
      "m2:(8.0, 8.0)\n",
      "\n",
      "Final Clusters \n",
      "Cluster 1: [(2, 3), (2, 4), (1, 2), (2, 2)] \n",
      "Cluster 2:[(8, 9), (7, 8), (8, 8), (9, 7)]\n"
     ]
    }
   ],
   "source": [
    "iteration = 0\n",
    "while True:\n",
    "    iteration+=1\n",
    "    print(f\"\\nIteration No: {iteration}\")\n",
    "\n",
    "    om1,om2 = m1,m2\n",
    "    \n",
    "    k1 = [point for point in points if math.dist(point,m1)<math.dist(point,m2)]\n",
    "    k2 = [point for point in points if math.dist(point,m1)>=math.dist(point,m2)]\n",
    "    \n",
    "    print(f\"Cluster 1: {k1} \\nCluster 2:{k2}\")\n",
    "\n",
    "    \n",
    "    m1 = (sum(p[0] for p in k1) /len(k1),sum(p[1] for p in k1)/len(k1))\n",
    "    m2 = (sum(p[0] for p in k2) /len(k2),sum(p[1] for p in k2)/len(k2))\n",
    "    print(f\"Means: \\nm1: {m1} \\nm2:{m2}\")\n",
    "    \n",
    "    \n",
    "    if m1 == om1 and m2 == om2:\n",
    "        break\n",
    "print(f\"\\nFinal Clusters \\nCluster 1: {k1} \\nCluster 2:{k2}\")\n",
    "\n"
   ]
  },
  {
   "cell_type": "code",
   "execution_count": null,
   "id": "9fda2db4",
   "metadata": {},
   "outputs": [],
   "source": []
  },
  {
   "cell_type": "code",
   "execution_count": null,
   "id": "1bd84b03",
   "metadata": {},
   "outputs": [],
   "source": []
  },
  {
   "cell_type": "code",
   "execution_count": 8,
   "id": "0c290222",
   "metadata": {},
   "outputs": [
    {
     "name": "stdout",
     "output_type": "stream",
     "text": [
      "Requirement already satisfied: matplotlib in c:\\anaconda3\\lib\\site-packages (3.7.0)\n",
      "Requirement already satisfied: python-dateutil>=2.7 in c:\\anaconda3\\lib\\site-packages (from matplotlib) (2.8.2)\n",
      "Requirement already satisfied: cycler>=0.10 in c:\\anaconda3\\lib\\site-packages (from matplotlib) (0.11.0)\n",
      "Requirement already satisfied: numpy>=1.20 in c:\\anaconda3\\lib\\site-packages (from matplotlib) (1.23.5)\n",
      "Requirement already satisfied: fonttools>=4.22.0 in c:\\anaconda3\\lib\\site-packages (from matplotlib) (4.25.0)\n",
      "Requirement already satisfied: pyparsing>=2.3.1 in c:\\anaconda3\\lib\\site-packages (from matplotlib) (3.0.9)\n",
      "Requirement already satisfied: pillow>=6.2.0 in c:\\anaconda3\\lib\\site-packages (from matplotlib) (9.4.0)\n",
      "Requirement already satisfied: packaging>=20.0 in c:\\anaconda3\\lib\\site-packages (from matplotlib) (22.0)\n",
      "Requirement already satisfied: kiwisolver>=1.0.1 in c:\\anaconda3\\lib\\site-packages (from matplotlib) (1.4.4)\n",
      "Requirement already satisfied: contourpy>=1.0.1 in c:\\anaconda3\\lib\\site-packages (from matplotlib) (1.0.5)\n",
      "Requirement already satisfied: six>=1.5 in c:\\anaconda3\\lib\\site-packages (from python-dateutil>=2.7->matplotlib) (1.16.0)\n"
     ]
    }
   ],
   "source": [
    "!pip install matplotlib"
   ]
  },
  {
   "cell_type": "code",
   "execution_count": 27,
   "id": "e3515869",
   "metadata": {},
   "outputs": [],
   "source": [
    "import numpy as np\n",
    "import matplotlib.pyplot as plt"
   ]
  },
  {
   "cell_type": "code",
   "execution_count": 28,
   "id": "8d021f15",
   "metadata": {},
   "outputs": [],
   "source": [
    "x = np.array([30, 70, 110, 150, 180, 220, 260, 300, 350, 390])\n",
    "y = np.array([0.18, 0.37, 0.35, 0.78, 0.56, 0.75, 1.18, 1.36, 1.17,\n",
    "1.65])"
   ]
  },
  {
   "cell_type": "code",
   "execution_count": 29,
   "id": "9e15e648",
   "metadata": {},
   "outputs": [],
   "source": [
    "x_mean = np.mean(x)\n",
    "y_mean = np.mean(y)"
   ]
  },
  {
   "cell_type": "code",
   "execution_count": 30,
   "id": "089ff7d5",
   "metadata": {},
   "outputs": [],
   "source": [
    "b1 = np.sum((x-x_mean)*(y-y_mean)) / np.sum((x-x_mean)**2)\n",
    "b0 = y_mean - b1 * x_mean"
   ]
  },
  {
   "cell_type": "code",
   "execution_count": 31,
   "id": "3101e3ea",
   "metadata": {},
   "outputs": [],
   "source": [
    "y_hat = b0 + b1 * x\n",
    "r_square = 1 - np.sum((y-y_hat)**2) / np.sum((y-y_mean)**2)"
   ]
  },
  {
   "cell_type": "code",
   "execution_count": 32,
   "id": "cf659a35",
   "metadata": {},
   "outputs": [],
   "source": [
    "toFind = 250\n",
    "evap_coeff = b0 + b1*toFind"
   ]
  },
  {
   "cell_type": "code",
   "execution_count": 33,
   "id": "649a41ad",
   "metadata": {},
   "outputs": [
    {
     "name": "stdout",
     "output_type": "stream",
     "text": [
      "b1 (Slope): 0.003877092374457532\n",
      "b0 (Intercept): 0.03631897086174829\n",
      "R-squared Value: 0.9074875739507842\n",
      "ŷ = 0.03631897086174829 + 0.003877092374457532x\n",
      "Evaporation Coefficient for Air Velocity 250:1.0055920644761314\n"
     ]
    }
   ],
   "source": [
    "print(f\"b1 (Slope): {b1:}\")\n",
    "print(f\"b0 (Intercept): {b0:}\")\n",
    "print(f\"R-squared Value: {r_square:}\")\n",
    "print(f\"ŷ = {b0:} + {b1:}x\")\n",
    "print(f\"Evaporation Coefficient for Air Velocity 250:{evap_coeff}\")"
   ]
  },
  {
   "cell_type": "code",
   "execution_count": 44,
   "id": "d333a8e4",
   "metadata": {},
   "outputs": [
    {
     "data": {
      "text/plain": [
       "Text(0, 0.5, 'Evap')"
      ]
     },
     "execution_count": 44,
     "metadata": {},
     "output_type": "execute_result"
    },
    {
     "data": {
      "image/png": "[encoded data removed]",
      "text/plain": [
       "<Figure size 640x480 with 1 Axes>"
      ]
     },
     "metadata": {},
     "output_type": "display_data"
    }
   ],
   "source": [
    "plt.scatter(x,y)\n",
    "plt.plot(x,y_hat)\n",
    "plt.xlabel('Air')\n",
    "plt.ylabel('Evap')\n",
    "# plt.show()"
   ]
  },
  {
   "cell_type": "code",
   "execution_count": null,
   "id": "47b2cc57",
   "metadata": {},
   "outputs": [],
   "source": []
  }
 ],
 "metadata": {
  "kernelspec": {
   "display_name": "Python 3 (ipykernel)",
   "language": "python",
   "name": "python3"
  },
  "language_info": {
   "codemirror_mode": {
    "name": "ipython",
    "version": 3
   },
   "file_extension": ".py",
   "mimetype": "text/x-python",
   "name": "python",
   "nbconvert_exporter": "python",
   "pygments_lexer": "ipython3",
   "version": "3.10.9"
  }
 },
 "nbformat": 4,
 "nbformat_minor": 5
}
